{
 "cells": [
  {
   "cell_type": "code",
   "execution_count": 1,
   "metadata": {
    "collapsed": false
   },
   "outputs": [],
   "source": [
    "# Public score 4.47675\n",
    "import tensorflow as tf\n",
    "import numpy as np\n",
    "import dataset as ds\n",
    "from random import shuffle\n",
    "trainToTestRatio = 0.8\n",
    "\n",
    "dataset = np.load('faceFeatures_2140_normalized_labels_as_coord_full_data.npz')\n",
    "samples = dataset['data'].shape[0]\n",
    "sampleSize = dataset['data'].shape[1]\n",
    "coordsCount = dataset['y'].shape[1]\n",
    "splitIdx = int(samples*trainToTestRatio)\n",
    "trainData = dataset['data'][:splitIdx]\n",
    "trainY = dataset['y'][:splitIdx]\n",
    "testData = dataset['data'][splitIdx:]\n",
    "testY = dataset['y'][splitIdx:]\n",
    "\n",
    "resultDataset = ds.TestsetDB()"
   ]
  },
  {
   "cell_type": "code",
   "execution_count": 2,
   "metadata": {
    "collapsed": true
   },
   "outputs": [],
   "source": [
    "class Batcher:\n",
    "    def __init__(self, data, labels):\n",
    "        self.maxSize = data.shape[0]\n",
    "        self.data = data\n",
    "        self.labels = labels\n",
    "        self.ni = 0\n",
    "        self.idxs = list(range(self.maxSize))\n",
    "        shuffle(self.idxs)\n",
    "    \n",
    "    def nextBatch(self, size):\n",
    "        assert(size <= self.maxSize)\n",
    "        \n",
    "        n = self.ni\n",
    "        self.ni += size\n",
    "        \n",
    "        if self.ni > self.maxSize:\n",
    "            tailIdxs = self.idxs[n:self.maxSize]\n",
    "            headIdxs = self.idxs[:self.ni-self.maxSize]\n",
    "            d = np.vstack([self.data[tailIdxs], self.data[headIdxs]])\n",
    "            l = np.vstack([self.labels[tailIdxs], self.labels[headIdxs]])\n",
    "            self.ni = 0\n",
    "            shuffle(self.idxs)\n",
    "            return d, l\n",
    "        else:\n",
    "            return self.data[self.idxs[n:self.ni]], self.labels[self.idxs[n:self.ni]]"
   ]
  },
  {
   "cell_type": "code",
   "execution_count": 3,
   "metadata": {
    "collapsed": false
   },
   "outputs": [],
   "source": [
    "outputSize = coordsCount\n",
    "x=tf.placeholder(tf.float32,shape=[None,sampleSize])\n",
    "y_=tf.placeholder(tf.float32,shape=[None,outputSize])\n",
    "x_96_96=tf.reshape(x,[-1,96,96,1])\n",
    "w_conv1=tf.Variable(tf.truncated_normal([3,3,1,32],stddev=0.1))\n",
    "b_conv1=tf.Variable(tf.constant(0.1,shape=[32]))\n",
    "h_conv1=tf.nn.relu(tf.nn.conv2d(x_96_96,w_conv1,strides=[1,1,1,1],padding='SAME')+b_conv1)\n",
    "h_max_pool1=tf.nn.max_pool(h_conv1,ksize=[1,2,2,1],strides=[1,2,2,1],padding='SAME')\n",
    "\n",
    "w_conv2=tf.Variable(tf.truncated_normal([3,3,32,64],stddev=0.1))\n",
    "b_conv2=tf.Variable(tf.constant(0.1,shape=[64]))\n",
    "h_conv2=tf.nn.relu(tf.nn.conv2d(h_max_pool1,w_conv2,strides=[1,1,1,1],padding='SAME')+b_conv2)\n",
    "h_max_pool2=tf.nn.max_pool(h_conv2,ksize=[1,2,2,1],strides=[1,2,2,1],padding='SAME')\n",
    "\n",
    "w_conv3=tf.Variable(tf.truncated_normal([2,2,64,128],stddev=0.1))\n",
    "b_conv3=tf.Variable(tf.constant(0.1,shape=[128]))\n",
    "h_conv3=tf.nn.relu(tf.nn.conv2d(h_max_pool2,w_conv3,strides=[1,1,1,1],padding='SAME')+b_conv3)\n",
    "h_max_pool3=tf.nn.max_pool(h_conv3,ksize=[1,2,2,1],strides=[1,2,2,1],padding='SAME')\n",
    "\n",
    "h_pool_flat=tf.reshape(h_max_pool3,[-1,12*12*128])\n",
    "\n",
    "keep_prob = tf.placeholder(tf.float32)\n",
    "\n",
    "w_fc1=tf.Variable(tf.truncated_normal([12*12*128,500],stddev=0.1))\n",
    "b_fc1=tf.Variable(tf.constant(0.1,shape=[500]))\n",
    "h_fc1=tf.nn.relu(tf.matmul(h_pool_flat,w_fc1)+b_fc1)\n",
    "h_fc1_drop = tf.nn.dropout(h_fc1, keep_prob)\n",
    "\n",
    "w_fc2=tf.Variable(tf.truncated_normal([500,500],stddev=0.1))\n",
    "b_fc2=tf.Variable(tf.constant(0.1,shape=[500]))\n",
    "h_fc2=tf.nn.relu(tf.matmul(h_fc1_drop,w_fc2)+b_fc2)\n",
    "h_fc2_drop = tf.nn.dropout(h_fc2, keep_prob)\n",
    "\n",
    "w_fc3=tf.Variable(tf.truncated_normal([500,30],stddev=0.1))\n",
    "b_fc3=tf.Variable(tf.constant(0.1,shape=[30]))\n",
    "\n",
    "\n",
    "y=tf.matmul(h_fc2_drop,w_fc3)+b_fc3"
   ]
  },
  {
   "cell_type": "code",
   "execution_count": 4,
   "metadata": {
    "collapsed": false
   },
   "outputs": [],
   "source": [
    "saver = tf.train.Saver()"
   ]
  },
  {
   "cell_type": "code",
   "execution_count": 5,
   "metadata": {
    "collapsed": false
   },
   "outputs": [],
   "source": [
    "#lossFunc = tf.nn.l2_loss(y - y_)\n",
    "lossFunc = tf.sqrt(tf.reduce_mean((y - y_)**2))\n",
    "\n",
    "train_step = tf.train.AdamOptimizer(1e-4).minimize(lossFunc)"
   ]
  },
  {
   "cell_type": "code",
   "execution_count": 8,
   "metadata": {
    "collapsed": false
   },
   "outputs": [
    {
     "name": "stdout",
     "output_type": "stream",
     "text": [
      "train: 7.56305 test: 7.47665\n",
      "train: 0.062225 test: 0.0875496\n",
      "train: 0.0557521 test: 0.0871625\n",
      "train: 0.0593399 test: 0.0871467\n",
      "train: 0.0639097 test: 0.0873492\n",
      "train: 0.0630186 test: 0.0876552\n",
      "train: 0.0594743 test: 0.0881371\n",
      "train: 0.0588086 test: 0.0887325\n",
      "train: 0.0626869 test: 0.0892404\n",
      "train: 0.0589057 test: 0.0898862\n",
      "train: 0.0577497 test: 0.0904736\n",
      "train: 0.0566451 test: 0.0912848\n",
      "train: 0.0614522 test: 0.0917814\n",
      "train: 0.0639176 test: 0.0924412\n",
      "train: 0.053301 test: 0.0929739\n",
      "train: 0.0673848 test: 0.0934399\n",
      "train: 0.0598166 test: 0.0939567\n",
      "train: 0.0604514 test: 0.094302\n",
      "train: 0.0602271 test: 0.0945706\n",
      "train: 0.0612258 test: 0.0948845\n",
      "train: 0.058528 test: 0.0950161\n",
      "train: 0.0599397 test: 0.095224\n",
      "train: 0.0625179 test: 0.0952692\n",
      "train: 0.0601754 test: 0.0953846\n",
      "train: 0.0600037 test: 0.095609\n",
      "train: 0.0612565 test: 0.0955855\n",
      "train: 0.0644589 test: 0.0957365\n",
      "train: 0.0600801 test: 0.0958247\n",
      "train: 0.0610721 test: 0.0957168\n",
      "train: 0.0592518 test: 0.0959077\n",
      "train: 0.0614854 test: 0.0958178\n",
      "train: 0.0610169 test: 0.0958809\n",
      "train: 0.0583819 test: 0.095898\n",
      "train: 0.0599551 test: 0.095779\n",
      "train: 0.0602244 test: 0.0959589\n",
      "train: 0.0625018 test: 0.0958835\n",
      "train: 0.0597853 test: 0.0958513\n",
      "train: 0.0661735 test: 0.0958985\n",
      "train: 0.0590561 test: 0.0958298\n",
      "train: 0.0643044 test: 0.0959201\n",
      "train: 0.0586389 test: 0.0958989\n",
      "train: 0.0611814 test: 0.095888\n",
      "train: 0.0575444 test: 0.0959518\n",
      "train: 0.0632557 test: 0.0959416\n",
      "train: 0.0575434 test: 0.0960539\n",
      "train: 0.0608211 test: 0.0960153\n",
      "train: 0.0579807 test: 0.0960326\n",
      "train: 0.0585674 test: 0.0961117\n",
      "train: 0.0586864 test: 0.0961425\n",
      "train: 0.0574229 test: 0.0961443\n",
      "train: 0.066444 test: 0.096199\n",
      "train: 0.0606077 test: 0.0962045\n",
      "train: 0.0627152 test: 0.0961772\n",
      "train: 0.0611844 test: 0.0962051\n",
      "train: 0.0594514 test: 0.0962151\n",
      "train: 0.0599254 test: 0.0962387\n",
      "train: 0.05612 test: 0.0962456\n",
      "train: 0.0591268 test: 0.0962525\n",
      "train: 0.0634866 test: 0.096243\n",
      "train: 0.0650834 test: 0.0962291\n",
      "train: 0.062083 test: 0.096235\n",
      "train: 0.0588209 test: 0.0962257\n",
      "train: 0.0577817 test: 0.0962607\n",
      "train: 0.0637602 test: 0.0962481\n",
      "train: 0.0580067 test: 0.0962241\n",
      "train: 0.0591082 test: 0.0962383\n",
      "train: 0.0626013 test: 0.0962315\n",
      "train: 0.0612365 test: 0.0962677\n",
      "train: 0.0591098 test: 0.096246\n",
      "train: 0.0616114 test: 0.0962459\n",
      "train: 0.0582782 test: 0.0962381\n",
      "train: 0.058197 test: 0.0962485\n",
      "train: 0.0645608 test: 0.0962356\n",
      "train: 0.0619549 test: 0.0962466\n",
      "train: 0.0618472 test: 0.0962526\n",
      "train: 0.0588874 test: 0.0962443\n",
      "train: 0.0588374 test: 0.0962263\n",
      "train: 0.0572476 test: 0.0962167\n",
      "train: 0.0591939 test: 0.096228\n",
      "train: 0.060741 test: 0.0962364\n",
      "train: 0.0634815 test: 0.0962358\n",
      "train: 0.0596631 test: 0.0962518\n",
      "train: 0.0620513 test: 0.0962247\n",
      "train: 0.0681924 test: 0.0962303\n",
      "train: 0.0603888 test: 0.0962375\n",
      "train: 0.0637805 test: 0.0962328\n",
      "train: 0.0605791 test: 0.0962385\n",
      "train: 0.0598925 test: 0.0962339\n",
      "train: 0.0563166 test: 0.096249\n",
      "train: 0.0591382 test: 0.0962385\n",
      "train: 0.0599568 test: 0.0962512\n",
      "train: 0.0624738 test: 0.0962524\n",
      "train: 0.060969 test: 0.096248\n",
      "train: 0.0626506 test: 0.0962222\n",
      "train: 0.0633571 test: 0.0962234\n",
      "train: 0.0588155 test: 0.0962337\n",
      "train: 0.0642724 test: 0.0962118\n",
      "train: 0.0661623 test: 0.0962184\n",
      "train: 0.0687513 test: 0.0962305\n",
      "train: 0.0571334 test: 0.0962403\n",
      "train: 0.0582039 test: 0.0962122\n"
     ]
    }
   ],
   "source": [
    "epohs = 100001\n",
    "early_stopping_max=7\n",
    "early_stopping_num=early_stopping_max\n",
    "win_score=float('inf')\n",
    "\n",
    "\n",
    "init = tf.initialize_all_variables()\n",
    "sess = tf.Session()\n",
    "sess.run(init)\n",
    "\n",
    "trainLoss = []\n",
    "testLoss = []\n",
    "batcher=Batcher(trainData,trainY)\n",
    "#test_batcher=Batcher(testData,testY)\n",
    "\n",
    "\n",
    "for i in range(epohs):\n",
    "    tD,tY=batcher.nextBatch(100)\n",
    "    \n",
    "    #evalY=y.eval(feed_dict={x:trainData, keep_prob: 1.0},session=sess)\n",
    "    #evalY[~np.isnan(tY)]=tY[~np.isnan(tY)]\n",
    "    if i % 1000 == 0:\n",
    "        #tstD,tstY=batcher.nextBatch(100)\n",
    "        train = lossFunc.eval(feed_dict={x:tD, y_:tY, keep_prob: 1.0}, session=sess)\n",
    "        #evalTestY=y.eval(feed_dict={x:tstD, keep_prob: 1.0},session=sess)\n",
    "        #evalTestY[~np.isnan(tstY)]=tstY[~np.isnan(tstY)]\n",
    "        test = lossFunc.eval(feed_dict={x:testData, y_:testY, keep_prob: 1.0}, session=sess)\n",
    "        trainLoss+=[train]\n",
    "        testLoss+=[test]\n",
    "        if test<win_score:\n",
    "            saver.save(sess,'win_sess')\n",
    "            early_stopping_num=early_stopping_max\n",
    "        else:\n",
    "            early_stopping_num-=1\n",
    "            if early_stopping_num<=0:\n",
    "                break      \n",
    "        print('train:', train, 'test:', test)\n",
    "    train_step.run(feed_dict={x:tD, y_:tY, keep_prob:0.5}, session=sess)"
   ]
  },
  {
   "cell_type": "code",
   "execution_count": 6,
   "metadata": {
    "collapsed": false
   },
   "outputs": [],
   "source": [
    "#saver.save(sess, 'cnn-3conv-3fc.ckpt')\n",
    "init = tf.initialize_all_variables()\n",
    "sess = tf.Session()\n",
    "sess.run(init)\n",
    "saver.restore(sess, 'cnn-3conv-3fc.ckpt')"
   ]
  },
  {
   "cell_type": "code",
   "execution_count": 7,
   "metadata": {
    "collapsed": true
   },
   "outputs": [],
   "source": [
    "%matplotlib inline\n",
    "import matplotlib.pyplot as plt\n",
    "import matplotlib.patches as patches\n",
    "\n",
    "def addFeatures(ax, features, isFill = True):\n",
    "    for i in range(0, 30, 2):\n",
    "        x = (features[i] + 1) * (96 / 2.0)\n",
    "        y = (features[i + 1] + 1) * (96 / 2.0)\n",
    "        ax.add_patch(patches.Circle((x,y),1, fill = isFill))\n",
    "    \n",
    "def showFace(data, features, expectedFeatures = None):\n",
    "    fig,ax = plt.subplots()\n",
    "    addFeatures(ax, features)\n",
    "    if not expectedFeatures is None:\n",
    "        addFeatures(ax, expectedFeatures, False)\n",
    "    plt.imshow(data.reshape(96, 96), cmap = 'gray')"
   ]
  },
  {
   "cell_type": "code",
   "execution_count": 8,
   "metadata": {
    "collapsed": false
   },
   "outputs": [],
   "source": [
    "tData=trainData[:10]\n",
    "evalResult=y.eval(feed_dict={x:tData, keep_prob:1.0}, session=sess)\n",
    "testResult = lambda idx : showFace(tData[idx], evalResult[idx])"
   ]
  },
  {
   "cell_type": "code",
   "execution_count": 9,
   "metadata": {
    "collapsed": false
   },
   "outputs": [
    {
     "data": {
      "image/png": "[encoded data removed]",
      "text/plain": [
       "<matplotlib.figure.Figure at 0x7f08fce7dda0>"
      ]
     },
     "metadata": {},
     "output_type": "display_data"
    }
   ],
   "source": [
    "testResult(5)"
   ]
  },
  {
   "cell_type": "code",
   "execution_count": 18,
   "metadata": {
    "collapsed": false
   },
   "outputs": [],
   "source": [
    "resultData = np.zeros((resultDataset.rows(), sampleSize), np.float32)\n",
    "for face in resultDataset.getFaces():\n",
    "    resultData[face.id - 1, :] = face.image.reshape((sampleSize,)).astype(np.float32) / 255.0\n",
    "\n",
    "for idx in range(resultData.shape[0]):\n",
    "    face = resultDataset.getFace(idx + 1)\n",
    "    resultY = y.eval(feed_dict={x:resultData[idx:(idx+1), :], keep_prob:1.0}, session=sess)\n",
    "    for featureId in ds.allFeatures:\n",
    "        fX = (resultY[0, featureId * 2] + 1) * (96 / 2.0)\n",
    "        fY = (resultY[0, featureId * 2 + 1] + 1) * (96 / 2.0)\n",
    "        if fX > 96:\n",
    "            fX = 96\n",
    "        if fY > 96:\n",
    "            fY = 96\n",
    "        if fX < 0:\n",
    "            fX = 0\n",
    "        if fY < 0:\n",
    "            fY = 0\n",
    "        face.setFeaturePosition(featureId, (fX, fY))\n",
    "resultDataset.write('test_results_convnet2.csv')"
   ]
  },
  {
   "cell_type": "code",
   "execution_count": 1,
   "metadata": {
    "collapsed": false
   },
   "outputs": [
    {
     "ename": "NameError",
     "evalue": "name 'resultDataset' is not defined",
     "traceback": [
      "\u001b[0;31m---------------------------------------------------------------------------\u001b[0m",
      "\u001b[0;31mNameError\u001b[0m                                 Traceback (most recent call last)",
      "\u001b[0;32m<ipython-input-1-148568b44350>\u001b[0m in \u001b[0;36m<module>\u001b[0;34m()\u001b[0m\n\u001b[1;32m      5\u001b[0m     \u001b[0max\u001b[0m\u001b[0;34m.\u001b[0m\u001b[0mimshow\u001b[0m\u001b[0;34m(\u001b[0m\u001b[0mface\u001b[0m\u001b[0;34m.\u001b[0m\u001b[0mimage\u001b[0m\u001b[0;34m,\u001b[0m \u001b[0mcmap\u001b[0m \u001b[0;34m=\u001b[0m \u001b[0;34m'gray'\u001b[0m\u001b[0;34m)\u001b[0m\u001b[0;34m\u001b[0m\u001b[0m\n\u001b[1;32m      6\u001b[0m \u001b[0;34m\u001b[0m\u001b[0m\n\u001b[0;32m----> 7\u001b[0;31m \u001b[0mshowTestFace\u001b[0m\u001b[0;34m(\u001b[0m\u001b[0mresultDataset\u001b[0m\u001b[0;34m.\u001b[0m\u001b[0mgetFace\u001b[0m\u001b[0;34m(\u001b[0m\u001b[0;36m4\u001b[0m\u001b[0;34m)\u001b[0m\u001b[0;34m)\u001b[0m\u001b[0;34m\u001b[0m\u001b[0m\n\u001b[0m",
      "\u001b[0;31mNameError\u001b[0m: name 'resultDataset' is not defined"
     ],
     "output_type": "error"
    }
   ],
   "source": [
    "def showTestFace(face):\n",
    "    fig,ax = plt.subplots()\n",
    "    for key, value in face.features.items():\n",
    "        ax.add_patch(patches.Circle(value,1))\n",
    "    ax.imshow(face.image, cmap = 'gray')\n",
    "    \n",
    "showTestFace(resultDataset.getFace(4))"
   ]
  },
  {
   "cell_type": "code",
   "execution_count": null,
   "metadata": {
    "collapsed": true
   },
   "outputs": [],
   "source": [
    ""
   ]
  }
 ],
 "metadata": {
  "kernelspec": {
   "display_name": "Python 3",
   "language": "python",
   "name": "python3"
  },
  "language_info": {
   "codemirror_mode": {
    "name": "ipython",
    "version": 3.0
   },
   "file_extension": ".py",
   "mimetype": "text/x-python",
   "name": "python",
   "nbconvert_exporter": "python",
   "pygments_lexer": "ipython3",
   "version": "3.5.2"
  }
 },
 "nbformat": 4,
 "nbformat_minor": 0
}