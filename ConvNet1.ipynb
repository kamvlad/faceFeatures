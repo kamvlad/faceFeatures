{
 "cells": [
  {
   "cell_type": "code",
   "execution_count": 11,
   "metadata": {
    "collapsed": false
   },
   "outputs": [],
   "source": [
    "import tensorflow as tf\n",
    "import numpy as np\n",
    "import dataset as ds\n",
    "trainToTestRatio = 0.8\n",
    "\n",
    "dataset = np.load('faceFeatures_9216_normalized_labels_as_coord.npz')\n",
    "samples = dataset['data'].shape[0]\n",
    "sampleSize = dataset['data'].shape[1]\n",
    "coordsCount = dataset['y'].shape[1]\n",
    "splitIdx = int(samples*trainToTestRatio)\n",
    "trainData = dataset['data'][:splitIdx]\n",
    "trainY = dataset['y'][:splitIdx]\n",
    "testData = dataset['data'][splitIdx:]\n",
    "testY = dataset['y'][splitIdx:]\n",
    "\n",
    "resultDataset = ds.TestsetDB()\n"
   ]
  },
  {
   "cell_type": "code",
   "execution_count": 48,
   "metadata": {
    "collapsed": false
   },
   "outputs": [],
   "source": [
    "outputSize = coordsCount\n",
    "x=tf.placeholder(tf.float32,shape=[None,sampleSize])\n",
    "y_=tf.placeholder(tf.float32,shape=[None,outputSize])\n",
    "x_96_96=tf.reshape(x,[-1,96,96,1])\n",
    "w_conv1=tf.Variable(tf.truncated_normal([3,3,1,32],stddev=0.1))\n",
    "b_conv1=tf.Variable(tf.constant(0.1,shape=[32]))\n",
    "h_conv1=tf.nn.relu(tf.nn.conv2d(x_96_96,w_conv1,strides=[1,1,1,1],padding='SAME')+b_conv1)\n",
    "h_max_pool1=tf.nn.max_pool(h_conv1,ksize=[1,2,2,1],strides=[1,2,2,1],padding='SAME')\n",
    "\n",
    "w_conv2=tf.Variable(tf.truncated_normal([3,3,32,64],stddev=0.1))\n",
    "b_conv2=tf.Variable(tf.constant(0.1,shape=[64]))\n",
    "h_conv2=tf.nn.relu(tf.nn.conv2d(h_max_pool1,w_conv2,strides=[1,1,1,1],padding='SAME')+b_conv2)\n",
    "h_max_pool2=tf.nn.max_pool(h_conv2,ksize=[1,2,2,1],strides=[1,2,2,1],padding='SAME')\n",
    "\n",
    "w_conv3=tf.Variable(tf.truncated_normal([2,2,64,128],stddev=0.1))\n",
    "b_conv3=tf.Variable(tf.constant(0.1,shape=[128]))\n",
    "h_conv3=tf.nn.relu(tf.nn.conv2d(h_max_pool2,w_conv3,strides=[1,1,1,1],padding='SAME')+b_conv3)\n",
    "h_max_pool3=tf.nn.max_pool(h_conv3,ksize=[1,2,2,1],strides=[1,2,2,1],padding='SAME')\n",
    "\n",
    "h_pool_flat=tf.reshape(h_max_pool3,[-1,12*12*128])\n",
    "\n",
    "w_fc1=tf.Variable(tf.truncated_normal([12*12*128,500],stddev=0.1))\n",
    "b_fc1=tf.Variable(tf.constant(0.1,shape=[500]))\n",
    "h_fc1=tf.nn.relu(tf.matmul(h_pool_flat,w_fc1)+b_fc1)\n",
    "\n",
    "w_fc2=tf.Variable(tf.truncated_normal([500,500],stddev=0.1))\n",
    "b_fc2=tf.Variable(tf.constant(0.1,shape=[500]))\n",
    "h_fc2=tf.nn.relu(tf.matmul(h_fc1,w_fc2)+b_fc2)\n",
    "\n",
    "w_fc3=tf.Variable(tf.truncated_normal([500,30],stddev=0.1))\n",
    "b_fc3=tf.Variable(tf.constant(0.1,shape=[30]))\n",
    "y=tf.nn.relu(tf.matmul(h_fc2,w_fc3)+b_fc3)"
   ]
  },
  {
   "cell_type": "code",
   "execution_count": 49,
   "metadata": {
    "collapsed": true
   },
   "outputs": [],
   "source": [
    "#lossFunc = tf.nn.l2_loss(y - y_)\n",
    "lossFunc = tf.sqrt(tf.reduce_mean((y - y_)**2))\n",
    "\n",
    "train_step = tf.train.AdamOptimizer(1e-4).minimize(lossFunc)"
   ]
  },
  {
   "cell_type": "code",
   "execution_count": null,
   "metadata": {
    "collapsed": false
   },
   "outputs": [],
   "source": [
    "epohs = 1001\n",
    "\n",
    "\n",
    "init = tf.initialize_all_variables()\n",
    "sess = tf.Session()\n",
    "sess.run(init)\n",
    "\n",
    "trainLoss = []\n",
    "testLoss = []\n",
    "\n",
    "for i in range(epohs):\n",
    "    evalY=y.eval(feed_dict={x:trainData},session=sess)\n",
    "    evalY[~np.isnan(trainY)]=trainY[~np.isnan(trainY)]\n",
    "    if i % 100 == 0:\n",
    "        train = lossFunc.eval(feed_dict={x:trainData, y_:evalY}, session=sess)\n",
    "        evalTestY=y.eval(feed_dict={x:testData},session=sess)\n",
    "        evalTestY[~np.isnan(testY)]=testY[~np.isnan(testY)]\n",
    "        test = lossFunc.eval(feed_dict={x:testData, y_:evalTestY}, session=sess)\n",
    "        \n",
    "        print('train:', train, 'test:', test)\n",
    "    train_step.run(feed_dict={x:trainData, y_:evalY}, session=sess)"
   ]
  },
  {
   "cell_type": "code",
   "execution_count": null,
   "metadata": {
    "collapsed": true
   },
   "outputs": [],
   "source": []
  }
 ],
 "metadata": {
  "kernelspec": {
   "display_name": "Python 3",
   "language": "python",
   "name": "python3"
  },
  "language_info": {
   "codemirror_mode": {
    "name": "ipython",
    "version": 3
   },
   "file_extension": ".py",
   "mimetype": "text/x-python",
   "name": "python",
   "nbconvert_exporter": "python",
   "pygments_lexer": "ipython3",
   "version": "3.4.3"
  }
 },
 "nbformat": 4,
 "nbformat_minor": 1
}
