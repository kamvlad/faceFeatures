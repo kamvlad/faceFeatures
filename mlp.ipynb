{
 "cells": [
  {
   "cell_type": "code",
   "execution_count": 5,
   "metadata": {
    "collapsed": false
   },
   "outputs": [],
   "source": [
    "import tensorflow as tf\n",
    "import numpy as np\n",
    "\n",
    "trainToTestRatio = 0.8\n",
    "\n",
    "dataset = np.load('faceFeatures_9216_normalized_labels_as_coord.npz')\n",
    "samples = dataset['data'].shape[0]\n",
    "sampleSize = dataset['data'].shape[1]\n",
    "coordsCount = dataset['y'].shape[1]\n",
    "splitIdx = int(samples*trainToTestRatio)\n",
    "trainData = dataset['data'][:splitIdx]\n",
    "trainY = dataset['y'][:splitIdx]\n",
    "testData = dataset['data'][splitIdx:]\n",
    "testY = dataset['y'][splitIdx:]"
   ]
  },
  {
   "cell_type": "code",
   "execution_count": 6,
   "metadata": {
    "collapsed": false
   },
   "outputs": [],
   "source": [
    "hiddenLayerSize = 100\n",
    "outputSize = coordsCount\n",
    "\n",
    "x = tf.placeholder(tf.float32, shape=[None, sampleSize])\n",
    "y_ = tf.placeholder(tf.float32, shape=[None, outputSize])\n",
    "\n",
    "# Hidden\n",
    "\n",
    "W_hidden = tf.Variable(tf.truncated_normal((sampleSize, hiddenLayerSize), stddev=0.1))\n",
    "b_hidden = tf.Variable(tf.constant(0.1, shape=(hiddenLayerSize,)))\n",
    "\n",
    "hidden = tf.nn.relu(tf.matmul(x, W_hidden) + b_hidden)\n",
    "\n",
    "# Output\n",
    "\n",
    "W_output = tf.Variable(tf.truncated_normal((hiddenLayerSize, outputSize), stddev=0.1))\n",
    "b_output = tf.Variable(tf.constant(0.1, shape=(outputSize,)))\n",
    "y = tf.matmul(hidden, W_output) + b_output\n",
    "\n",
    "# add overfitting control"
   ]
  },
  {
   "cell_type": "code",
   "execution_count": 13,
   "metadata": {
    "collapsed": false
   },
   "outputs": [],
   "source": [
    "#lossFunc = tf.nn.l2_loss(y - y_)\n",
    "lossFunc = tf.sqrt(tf.reduce_mean((y - y_)**2))\n",
    "\n",
    "train_step = tf.train.AdamOptimizer(1e-4).minimize(lossFunc)"
   ]
  },
  {
   "cell_type": "code",
   "execution_count": null,
   "metadata": {
    "collapsed": false
   },
   "outputs": [
    {
     "name": "stdout",
     "output_type": "stream",
     "text": [
      "train: 2.17743 test: 1.15023\n",
      "train: 0.294141 test: 0.182157\n"
     ]
    }
   ],
   "source": [
    "epohs = 5000\n",
    "\n",
    "\n",
    "init = tf.initialize_all_variables()\n",
    "sess = tf.Session()\n",
    "sess.run(init)\n",
    "\n",
    "trainLoss = []\n",
    "testLoss = []\n",
    "\n",
    "for i in range(epohs):\n",
    "    evalY=y.eval(feed_dict={x:trainData},session=sess)\n",
    "    evalY[~np.isnan(trainY)]=trainY[~np.isnan(trainY)]\n",
    "    if i % 100 == 0:\n",
    "        train = lossFunc.eval(feed_dict={x:trainData, y_:evalY}, session=sess)\n",
    "        evalTestY=y.eval(feed_dict={x:testData},session=sess)\n",
    "        evalTestY[~np.isnan(testY)]=testY[~np.isnan(testY)]\n",
    "        test = lossFunc.eval(feed_dict={x:testData, y_:evalTestY}, session=sess)\n",
    "        \n",
    "        print('train:', train, 'test:', test)\n",
    "    train_step.run(feed_dict={x:trainData, y_:evalY}, session=sess)"
   ]
  },
  {
   "cell_type": "code",
   "execution_count": null,
   "metadata": {
    "collapsed": true
   },
   "outputs": [],
   "source": []
  },
  {
   "cell_type": "code",
   "execution_count": null,
   "metadata": {
    "collapsed": true
   },
   "outputs": [],
   "source": []
  }
 ],
 "metadata": {
  "kernelspec": {
   "display_name": "Python 3",
   "language": "python",
   "name": "python3"
  },
  "language_info": {
   "codemirror_mode": {
    "name": "ipython",
    "version": 3
   },
   "file_extension": ".py",
   "mimetype": "text/x-python",
   "name": "python",
   "nbconvert_exporter": "python",
   "pygments_lexer": "ipython3",
   "version": "3.4.3"
  }
 },
 "nbformat": 4,
 "nbformat_minor": 1
}
