{
 "cells": [
  {
   "cell_type": "code",
   "execution_count": 62,
   "metadata": {
    "collapsed": true
   },
   "outputs": [],
   "source": [
    "import tensorflow as tf\n",
    "import numpy as np\n",
    "\n",
    "trainToTestRatio = 0.8\n",
    "\n",
    "dataset = np.load('faceFeatures_9216_normalized_labels_as_coord.npz')\n",
    "samples = dataset['data'].shape[0]\n",
    "sampleSize = dataset['data'].shape[1]\n",
    "coordsCount = dataset['y'].shape[1]\n",
    "splitIdx = int(samples*trainToTestRatio)\n",
    "trainData = dataset['data'][:splitIdx]\n",
    "trainY = dataset['y'][:splitIdx]\n",
    "testData = dataset['data'][splitIdx:]\n",
    "testY = dataset['y'][splitIdx:]"
   ]
  },
  {
   "cell_type": "code",
   "execution_count": 76,
   "metadata": {
    "collapsed": false
   },
   "outputs": [],
   "source": [
    "hiddenLayerSize = 100\n",
    "outputSize = coordsCount\n",
    "\n",
    "x = tf.placeholder(tf.float32, shape=[None, sampleSize])\n",
    "y_ = tf.placeholder(tf.float32, shape=[None, outputSize])\n",
    "\n",
    "# Hidden\n",
    "\n",
    "W_hidden = tf.Variable(tf.truncated_normal((sampleSize, hiddenLayerSize), stddev=0.1))\n",
    "b_hidden = tf.Variable(tf.constant(0.1, shape=(hiddenLayerSize,)))\n",
    "\n",
    "hidden = tf.nn.relu(tf.matmul(x, W_hidden) + b_hidden)\n",
    "\n",
    "# Output\n",
    "\n",
    "W_output = tf.Variable(tf.truncated_normal((hiddenLayerSize, outputSize), stddev=0.1))\n",
    "b_output = tf.Variable(tf.constant(0.1, shape=(outputSize,)))\n",
    "y = tf.matmul(hidden, W_output) + b_output\n",
    "\n",
    "# add overfitting control"
   ]
  },
  {
   "cell_type": "code",
   "execution_count": 77,
   "metadata": {
    "collapsed": false
   },
   "outputs": [],
   "source": [
    "lossFunc = tf.nn.l2_loss(y - y_)\n",
    "\n",
    "train_step = tf.train.AdamOptimizer(1e-4).minimize(lossFunc)"
   ]
  },
  {
   "cell_type": "code",
   "execution_count": 81,
   "metadata": {
    "collapsed": false
   },
   "outputs": [
    {
     "name": "stdout",
     "output_type": "stream",
     "text": [
      "train: 152421.0 test: 38450.2\n",
      "train: 4100.23 test: 1598.44\n",
      "train: 2219.61 test: 888.991\n",
      "train: 1551.98 test: 657.248\n",
      "train: 1219.34 test: 540.905\n",
      "train: 999.523 test: 464.419\n",
      "train: 888.961 test: 425.479\n",
      "train: 802.993 test: 395.889\n",
      "train: 732.408 test: 371.424\n",
      "train: 671.861 test: 353.443\n",
      "train: 616.896 test: 339.389\n",
      "train: 565.334 test: 323.481\n",
      "train: 522.564 test: 311.463\n",
      "train: 486.167 test: 300.471\n",
      "train: 454.387 test: 290.374\n",
      "train: 425.12 test: 281.298\n",
      "train: 393.596 test: 270.527\n",
      "train: 365.59 test: 260.899\n",
      "train: 337.025 test: 247.575\n",
      "train: 286.567 test: 224.323\n",
      "train: 247.994 test: 205.728\n",
      "train: 233.217 test: 199.438\n",
      "train: 221.206 test: 194.432\n",
      "train: 210.668 test: 190.402\n",
      "train: 201.297 test: 186.467\n",
      "train: 192.553 test: 183.157\n",
      "train: 184.65 test: 180.068\n",
      "train: 177.155 test: 176.743\n",
      "train: 170.272 test: 174.039\n",
      "train: 163.898 test: 171.742\n",
      "train: 157.763 test: 169.239\n",
      "train: 151.944 test: 166.369\n",
      "train: 146.263 test: 164.403\n",
      "train: 141.115 test: 162.649\n",
      "train: 136.018 test: 160.047\n",
      "train: 131.276 test: 158.104\n",
      "train: 126.747 test: 156.353\n",
      "train: 122.456 test: 154.181\n",
      "train: 118.316 test: 152.428\n",
      "train: 114.241 test: 151.157\n",
      "train: 110.496 test: 148.877\n",
      "train: 106.769 test: 147.697\n",
      "train: 103.352 test: 145.659\n",
      "train: 100.023 test: 144.423\n",
      "train: 97.0594 test: 142.625\n",
      "train: 94.1956 test: 141.005\n",
      "train: 91.4202 test: 140.471\n",
      "train: 88.6828 test: 138.788\n",
      "train: 86.2428 test: 137.363\n",
      "train: 84.3011 test: 135.379\n"
     ]
    }
   ],
   "source": [
    "epohs = 5000\n",
    "\n",
    "\n",
    "init = tf.initialize_all_variables()\n",
    "sess = tf.Session()\n",
    "sess.run(init)\n",
    "\n",
    "trainLoss = []\n",
    "testLoss = []\n",
    "\n",
    "for i in range(epohs):\n",
    "    if i % 100 == 0:\n",
    "        train = lossFunc.eval(feed_dict={x:trainData, y_:trainY}, session=sess)\n",
    "        test = lossFunc.eval(feed_dict={x:testData, y_:testY}, session=sess)\n",
    "        print('train:', train, 'test:', test)\n",
    "    train_step.run(feed_dict={x:trainData, y_:trainY}, session=sess)"
   ]
  },
  {
   "cell_type": "code",
   "execution_count": null,
   "metadata": {
    "collapsed": true
   },
   "outputs": [],
   "source": []
  },
  {
   "cell_type": "code",
   "execution_count": null,
   "metadata": {
    "collapsed": true
   },
   "outputs": [],
   "source": []
  }
 ],
 "metadata": {
  "kernelspec": {
   "display_name": "Python 3",
   "language": "python",
   "name": "python3"
  },
  "language_info": {
   "codemirror_mode": {
    "name": "ipython",
    "version": 3
   },
   "file_extension": ".py",
   "mimetype": "text/x-python",
   "name": "python",
   "nbconvert_exporter": "python",
   "pygments_lexer": "ipython3",
   "version": "3.5.2"
  }
 },
 "nbformat": 4,
 "nbformat_minor": 1
}
